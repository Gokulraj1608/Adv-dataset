{
  "nbformat": 4,
  "nbformat_minor": 0,
  "metadata": {
    "colab": {
      "name": "IDS",
      "provenance": [],
      "collapsed_sections": [],
      "machine_shape": "hm"
    },
    "kernelspec": {
      "name": "python3",
      "display_name": "Python 3"
    },
    "language_info": {
      "name": "python"
    },
    "accelerator": "GPU"
  },
  "cells": [
    {
      "cell_type": "code",
      "metadata": {
        "id": "2bGPSty955KH"
      },
      "source": [
        "import pandas as pd\n",
        "import numpy as np \n",
        "import matplotlib.pyplot as plt\n",
        "import gc"
      ],
      "execution_count": null,
      "outputs": []
    },
    {
      "cell_type": "code",
      "metadata": {
        "colab": {
          "base_uri": "https://localhost:8080/",
          "height": 52
        },
        "id": "PZYbHBb8A4da",
        "outputId": "b1c84c05-ca8f-4e6c-ebf7-cf3c6e33d50b"
      },
      "source": [
        "#Import utils.py from drive\n",
        "import sys\n",
        "sys.path.append(\"drive/MyDrive/IDS/\")\n",
        "!ls\n",
        "from utils import *\n",
        "\"\"\"\n",
        "get_Count_stat , get_stat , get_stat_XIMB\n",
        "\"\"\""
      ],
      "execution_count": null,
      "outputs": [
        {
          "output_type": "stream",
          "name": "stdout",
          "text": [
            "drive  sample_data\n"
          ]
        },
        {
          "output_type": "execute_result",
          "data": {
            "application/vnd.google.colaboratory.intrinsic+json": {
              "type": "string"
            },
            "text/plain": [
              "'\\nget_Count_stat , get_stat , get_stat_XIMB\\n'"
            ]
          },
          "metadata": {},
          "execution_count": 2
        }
      ]
    },
    {
      "cell_type": "code",
      "metadata": {
        "id": "ET7Iui_TPnh9"
      },
      "source": [
        ""
      ],
      "execution_count": null,
      "outputs": []
    },
    {
      "cell_type": "code",
      "metadata": {
        "colab": {
          "base_uri": "https://localhost:8080/"
        },
        "id": "FWM0ZAhowXF5",
        "outputId": "d444d6d4-f116-4718-c911-c2ae6e2dfd71"
      },
      "source": [
        "#PATHS\n",
        "Data              = \"drive/MyDrive/IDS/data/\"\n",
        "Heatmaps          = \"drive/MyDrive/IDS/Heatmaps/\"\n",
        "Visuals           = \"drive/MyDrive/IDS/Visuals/\"\n",
        "EDA               = \"drive/MyDrive/IDS/EDA/\"\n",
        "Model             = \"drive/MyDrive/IDS/Models/\"\n",
        "Comparison        = \"drive/MyDrive/IDS/Comparison/\"\n",
        "ClassImbalance    = \"drive/MyDrive/IDS/Class_Imbalance/\"\n",
        "print(f'{Model}Augmented_emails.csv')"
      ],
      "execution_count": null,
      "outputs": [
        {
          "output_type": "stream",
          "name": "stdout",
          "text": [
            "drive/MyDrive/IDS/Models/Augmented_emails.csv\n"
          ]
        }
      ]
    },
    {
      "cell_type": "markdown",
      "metadata": {
        "id": "ipEr98Phvqw-"
      },
      "source": [
        "# Download The data \n",
        "\n",
        "```\n",
        "!pip install awscli\n",
        "```\n",
        "```\n",
        "!aws s3 sync s3://cse-cic-ids2018/Processed\\ Traffic\\ Data\\ for\\ ML\\ Algorithms/ --no-sign-request /content/data\n",
        "```\n",
        "\n",
        "\n"
      ]
    },
    {
      "cell_type": "markdown",
      "metadata": {
        "id": "lGeshA9rxhA_"
      },
      "source": [
        "# **About the Dataset**\n",
        "[Dataset Link](https://www.unb.ca/cic/datasets/ids-2018.html)\n",
        "\n",
        "*The final dataset includes seven different attack scenarios: Brute-force, Heartbleed, Botnet, DoS, DDoS, Web attacks, and infiltration of the network from inside.*\n",
        "\n",
        "*The attacking infrastructure includes 50 machines and the victim organization has 5 departments and includes 420 machines and 30 servers. The dataset includes the captures network traffic and system logs of each machine, along with 80 features extracted from the captured traffic using CICFlowMeter-V3.*\n",
        "\n"
      ]
    },
    {
      "cell_type": "markdown",
      "metadata": {
        "id": "cJLXDb7x7K9Q"
      },
      "source": [
        "| Attack              | Tools                                                                                                 | Duration | Attacker   | Victim                                             |\n",
        "|---------------------|-------------------------------------------------------------------------------------------------------|----------|------------|----------------------------------------------------|\n",
        "| Bruteforce attack   | FTP – Patator SSH – Patator                                                                           | One day  | Kali linux | Ubuntu 16.4 (Web Server)                           |\n",
        "| DoS attack          | Hulk, GoldenEye, Slowloris, Slowhttptest                                                              | One day  | Kali linux | Ubuntu 16.4 (Apache)                               |\n",
        "| DoS attack          | Heartleech                                                                                            | One day  | Kali linux | Ubuntu 12.04 (Open SSL)                            |\n",
        "| Web attack          | Damn Vulnerable Web App (DVWA) In-house selenium framework (XSS and Brute-force)                      | Two days | Kali linux | Ubuntu 16.4 (Web Server)                           |\n",
        "| Infiltration attack | First level: Dropbox download in a windows machine Second Level: Nmap and portscan                    | Two days | Kali linux | Windows Vista and Macintosh                        |\n",
        "| Botnet attack       | Ares (developed by Python): remote shell, file upload/download, capturing screenshots and key logging | One day  | Kali linux | Windows Vista, 7, 8.1, 10 (32-bit) and 10 (64-bit) |\n",
        "| DDoS+PortScan       | Low Orbit Ion Canon (LOIC) for UDP, TCP, or HTTP requests                                             | Two days | Kali linux | Windows Vista, 7, 8.1, 10 (32-bit) and 10 (64-bit) |"
      ]
    },
    {
      "cell_type": "markdown",
      "metadata": {
        "id": "W2UP2Ivr1rQz"
      },
      "source": [
        "# Date 1 Friday-02-03-2018\n",
        "\n",
        "**Botnet**\n",
        " \n",
        "*Ares(developed by Python): remote shell, file upload/download,capturing screenshots and key logging* \n",
        "\n",
        "\n"
      ]
    },
    {
      "cell_type": "code",
      "metadata": {
        "id": "e1ZW2eI0Kznz",
        "colab": {
          "base_uri": "https://localhost:8080/",
          "height": 360
        },
        "outputId": "33e12e33-8098-4f80-e741-74391431b194"
      },
      "source": [
        "date_1 = pd.read_csv(f\"{Data}Friday-02-03-2018_TrafficForML_CICFlowMeter.csv\")\n",
        "date_1.head()"
      ],
      "execution_count": null,
      "outputs": [
        {
          "output_type": "execute_result",
          "data": {
            "text/html": [
              "<div>\n",
              "<style scoped>\n",
              "    .dataframe tbody tr th:only-of-type {\n",
              "        vertical-align: middle;\n",
              "    }\n",
              "\n",
              "    .dataframe tbody tr th {\n",
              "        vertical-align: top;\n",
              "    }\n",
              "\n",
              "    .dataframe thead th {\n",
              "        text-align: right;\n",
              "    }\n",
              "</style>\n",
              "<table border=\"1\" class=\"dataframe\">\n",
              "  <thead>\n",
              "    <tr style=\"text-align: right;\">\n",
              "      <th></th>\n",
              "      <th>Dst Port</th>\n",
              "      <th>Protocol</th>\n",
              "      <th>Timestamp</th>\n",
              "      <th>Flow Duration</th>\n",
              "      <th>Tot Fwd Pkts</th>\n",
              "      <th>Tot Bwd Pkts</th>\n",
              "      <th>TotLen Fwd Pkts</th>\n",
              "      <th>TotLen Bwd Pkts</th>\n",
              "      <th>Fwd Pkt Len Max</th>\n",
              "      <th>Fwd Pkt Len Min</th>\n",
              "      <th>Fwd Pkt Len Mean</th>\n",
              "      <th>Fwd Pkt Len Std</th>\n",
              "      <th>Bwd Pkt Len Max</th>\n",
              "      <th>Bwd Pkt Len Min</th>\n",
              "      <th>Bwd Pkt Len Mean</th>\n",
              "      <th>Bwd Pkt Len Std</th>\n",
              "      <th>Flow Byts/s</th>\n",
              "      <th>Flow Pkts/s</th>\n",
              "      <th>Flow IAT Mean</th>\n",
              "      <th>Flow IAT Std</th>\n",
              "      <th>Flow IAT Max</th>\n",
              "      <th>Flow IAT Min</th>\n",
              "      <th>Fwd IAT Tot</th>\n",
              "      <th>Fwd IAT Mean</th>\n",
              "      <th>Fwd IAT Std</th>\n",
              "      <th>Fwd IAT Max</th>\n",
              "      <th>Fwd IAT Min</th>\n",
              "      <th>Bwd IAT Tot</th>\n",
              "      <th>Bwd IAT Mean</th>\n",
              "      <th>Bwd IAT Std</th>\n",
              "      <th>Bwd IAT Max</th>\n",
              "      <th>Bwd IAT Min</th>\n",
              "      <th>Fwd PSH Flags</th>\n",
              "      <th>Bwd PSH Flags</th>\n",
              "      <th>Fwd URG Flags</th>\n",
              "      <th>Bwd URG Flags</th>\n",
              "      <th>Fwd Header Len</th>\n",
              "      <th>Bwd Header Len</th>\n",
              "      <th>Fwd Pkts/s</th>\n",
              "      <th>Bwd Pkts/s</th>\n",
              "      <th>Pkt Len Min</th>\n",
              "      <th>Pkt Len Max</th>\n",
              "      <th>Pkt Len Mean</th>\n",
              "      <th>Pkt Len Std</th>\n",
              "      <th>Pkt Len Var</th>\n",
              "      <th>FIN Flag Cnt</th>\n",
              "      <th>SYN Flag Cnt</th>\n",
              "      <th>RST Flag Cnt</th>\n",
              "      <th>PSH Flag Cnt</th>\n",
              "      <th>ACK Flag Cnt</th>\n",
              "      <th>URG Flag Cnt</th>\n",
              "      <th>CWE Flag Count</th>\n",
              "      <th>ECE Flag Cnt</th>\n",
              "      <th>Down/Up Ratio</th>\n",
              "      <th>Pkt Size Avg</th>\n",
              "      <th>Fwd Seg Size Avg</th>\n",
              "      <th>Bwd Seg Size Avg</th>\n",
              "      <th>Fwd Byts/b Avg</th>\n",
              "      <th>Fwd Pkts/b Avg</th>\n",
              "      <th>Fwd Blk Rate Avg</th>\n",
              "      <th>Bwd Byts/b Avg</th>\n",
              "      <th>Bwd Pkts/b Avg</th>\n",
              "      <th>Bwd Blk Rate Avg</th>\n",
              "      <th>Subflow Fwd Pkts</th>\n",
              "      <th>Subflow Fwd Byts</th>\n",
              "      <th>Subflow Bwd Pkts</th>\n",
              "      <th>Subflow Bwd Byts</th>\n",
              "      <th>Init Fwd Win Byts</th>\n",
              "      <th>Init Bwd Win Byts</th>\n",
              "      <th>Fwd Act Data Pkts</th>\n",
              "      <th>Fwd Seg Size Min</th>\n",
              "      <th>Active Mean</th>\n",
              "      <th>Active Std</th>\n",
              "      <th>Active Max</th>\n",
              "      <th>Active Min</th>\n",
              "      <th>Idle Mean</th>\n",
              "      <th>Idle Std</th>\n",
              "      <th>Idle Max</th>\n",
              "      <th>Idle Min</th>\n",
              "      <th>Label</th>\n",
              "    </tr>\n",
              "  </thead>\n",
              "  <tbody>\n",
              "    <tr>\n",
              "      <th>0</th>\n",
              "      <td>443</td>\n",
              "      <td>6</td>\n",
              "      <td>02/03/2018 08:47:38</td>\n",
              "      <td>141385</td>\n",
              "      <td>9</td>\n",
              "      <td>7</td>\n",
              "      <td>553</td>\n",
              "      <td>3773.0</td>\n",
              "      <td>202</td>\n",
              "      <td>0</td>\n",
              "      <td>61.444444</td>\n",
              "      <td>87.534438</td>\n",
              "      <td>1460</td>\n",
              "      <td>0</td>\n",
              "      <td>539.000000</td>\n",
              "      <td>655.432936</td>\n",
              "      <td>30597.30523</td>\n",
              "      <td>113.166177</td>\n",
              "      <td>9425.666667</td>\n",
              "      <td>19069.116850</td>\n",
              "      <td>73403.0</td>\n",
              "      <td>1.0</td>\n",
              "      <td>141385.0</td>\n",
              "      <td>17673.125</td>\n",
              "      <td>23965.32327</td>\n",
              "      <td>73403.0</td>\n",
              "      <td>22.0</td>\n",
              "      <td>51417.0</td>\n",
              "      <td>8569.50000</td>\n",
              "      <td>13036.89082</td>\n",
              "      <td>31525.0</td>\n",
              "      <td>1.0</td>\n",
              "      <td>0</td>\n",
              "      <td>0</td>\n",
              "      <td>0</td>\n",
              "      <td>0</td>\n",
              "      <td>192</td>\n",
              "      <td>152</td>\n",
              "      <td>63.655975</td>\n",
              "      <td>49.510203</td>\n",
              "      <td>0</td>\n",
              "      <td>1460</td>\n",
              "      <td>254.470588</td>\n",
              "      <td>474.712955</td>\n",
              "      <td>225352.389700</td>\n",
              "      <td>0</td>\n",
              "      <td>0</td>\n",
              "      <td>1</td>\n",
              "      <td>1</td>\n",
              "      <td>0</td>\n",
              "      <td>0</td>\n",
              "      <td>0</td>\n",
              "      <td>1</td>\n",
              "      <td>0</td>\n",
              "      <td>270.375000</td>\n",
              "      <td>61.444444</td>\n",
              "      <td>539.000000</td>\n",
              "      <td>0</td>\n",
              "      <td>0</td>\n",
              "      <td>0</td>\n",
              "      <td>0</td>\n",
              "      <td>0</td>\n",
              "      <td>0</td>\n",
              "      <td>9</td>\n",
              "      <td>553</td>\n",
              "      <td>7</td>\n",
              "      <td>3773</td>\n",
              "      <td>8192</td>\n",
              "      <td>119</td>\n",
              "      <td>4</td>\n",
              "      <td>20</td>\n",
              "      <td>0.0</td>\n",
              "      <td>0.0</td>\n",
              "      <td>0.0</td>\n",
              "      <td>0.0</td>\n",
              "      <td>0.0</td>\n",
              "      <td>0.0</td>\n",
              "      <td>0.0</td>\n",
              "      <td>0.0</td>\n",
              "      <td>Benign</td>\n",
              "    </tr>\n",
              "    <tr>\n",
              "      <th>1</th>\n",
              "      <td>49684</td>\n",
              "      <td>6</td>\n",
              "      <td>02/03/2018 08:47:38</td>\n",
              "      <td>281</td>\n",
              "      <td>2</td>\n",
              "      <td>1</td>\n",
              "      <td>38</td>\n",
              "      <td>0.0</td>\n",
              "      <td>38</td>\n",
              "      <td>0</td>\n",
              "      <td>19.000000</td>\n",
              "      <td>26.870058</td>\n",
              "      <td>0</td>\n",
              "      <td>0</td>\n",
              "      <td>0.000000</td>\n",
              "      <td>0.000000</td>\n",
              "      <td>135231.31670</td>\n",
              "      <td>10676.156580</td>\n",
              "      <td>140.500000</td>\n",
              "      <td>174.655375</td>\n",
              "      <td>264.0</td>\n",
              "      <td>17.0</td>\n",
              "      <td>281.0</td>\n",
              "      <td>281.000</td>\n",
              "      <td>0.00000</td>\n",
              "      <td>281.0</td>\n",
              "      <td>281.0</td>\n",
              "      <td>0.0</td>\n",
              "      <td>0.00000</td>\n",
              "      <td>0.00000</td>\n",
              "      <td>0.0</td>\n",
              "      <td>0.0</td>\n",
              "      <td>1</td>\n",
              "      <td>0</td>\n",
              "      <td>0</td>\n",
              "      <td>0</td>\n",
              "      <td>40</td>\n",
              "      <td>20</td>\n",
              "      <td>7117.437722</td>\n",
              "      <td>3558.718861</td>\n",
              "      <td>0</td>\n",
              "      <td>38</td>\n",
              "      <td>19.000000</td>\n",
              "      <td>21.939310</td>\n",
              "      <td>481.333333</td>\n",
              "      <td>0</td>\n",
              "      <td>1</td>\n",
              "      <td>0</td>\n",
              "      <td>0</td>\n",
              "      <td>1</td>\n",
              "      <td>0</td>\n",
              "      <td>0</td>\n",
              "      <td>0</td>\n",
              "      <td>0</td>\n",
              "      <td>25.333333</td>\n",
              "      <td>19.000000</td>\n",
              "      <td>0.000000</td>\n",
              "      <td>0</td>\n",
              "      <td>0</td>\n",
              "      <td>0</td>\n",
              "      <td>0</td>\n",
              "      <td>0</td>\n",
              "      <td>0</td>\n",
              "      <td>2</td>\n",
              "      <td>38</td>\n",
              "      <td>1</td>\n",
              "      <td>0</td>\n",
              "      <td>123</td>\n",
              "      <td>0</td>\n",
              "      <td>0</td>\n",
              "      <td>20</td>\n",
              "      <td>0.0</td>\n",
              "      <td>0.0</td>\n",
              "      <td>0.0</td>\n",
              "      <td>0.0</td>\n",
              "      <td>0.0</td>\n",
              "      <td>0.0</td>\n",
              "      <td>0.0</td>\n",
              "      <td>0.0</td>\n",
              "      <td>Benign</td>\n",
              "    </tr>\n",
              "    <tr>\n",
              "      <th>2</th>\n",
              "      <td>443</td>\n",
              "      <td>6</td>\n",
              "      <td>02/03/2018 08:47:40</td>\n",
              "      <td>279824</td>\n",
              "      <td>11</td>\n",
              "      <td>15</td>\n",
              "      <td>1086</td>\n",
              "      <td>10527.0</td>\n",
              "      <td>385</td>\n",
              "      <td>0</td>\n",
              "      <td>98.727273</td>\n",
              "      <td>129.392497</td>\n",
              "      <td>1460</td>\n",
              "      <td>0</td>\n",
              "      <td>701.800000</td>\n",
              "      <td>636.314186</td>\n",
              "      <td>41501.08640</td>\n",
              "      <td>92.915547</td>\n",
              "      <td>11192.960000</td>\n",
              "      <td>24379.448340</td>\n",
              "      <td>112589.0</td>\n",
              "      <td>1.0</td>\n",
              "      <td>279728.0</td>\n",
              "      <td>27972.800</td>\n",
              "      <td>36167.74032</td>\n",
              "      <td>112589.0</td>\n",
              "      <td>94.0</td>\n",
              "      <td>258924.0</td>\n",
              "      <td>18494.57143</td>\n",
              "      <td>36356.50372</td>\n",
              "      <td>133669.0</td>\n",
              "      <td>1.0</td>\n",
              "      <td>0</td>\n",
              "      <td>0</td>\n",
              "      <td>0</td>\n",
              "      <td>0</td>\n",
              "      <td>232</td>\n",
              "      <td>312</td>\n",
              "      <td>39.310424</td>\n",
              "      <td>53.605123</td>\n",
              "      <td>0</td>\n",
              "      <td>1460</td>\n",
              "      <td>430.111111</td>\n",
              "      <td>566.234209</td>\n",
              "      <td>320621.179500</td>\n",
              "      <td>0</td>\n",
              "      <td>0</td>\n",
              "      <td>1</td>\n",
              "      <td>1</td>\n",
              "      <td>0</td>\n",
              "      <td>0</td>\n",
              "      <td>0</td>\n",
              "      <td>1</td>\n",
              "      <td>1</td>\n",
              "      <td>446.653846</td>\n",
              "      <td>98.727273</td>\n",
              "      <td>701.800000</td>\n",
              "      <td>0</td>\n",
              "      <td>0</td>\n",
              "      <td>0</td>\n",
              "      <td>0</td>\n",
              "      <td>0</td>\n",
              "      <td>0</td>\n",
              "      <td>11</td>\n",
              "      <td>1086</td>\n",
              "      <td>15</td>\n",
              "      <td>10527</td>\n",
              "      <td>8192</td>\n",
              "      <td>1047</td>\n",
              "      <td>5</td>\n",
              "      <td>20</td>\n",
              "      <td>0.0</td>\n",
              "      <td>0.0</td>\n",
              "      <td>0.0</td>\n",
              "      <td>0.0</td>\n",
              "      <td>0.0</td>\n",
              "      <td>0.0</td>\n",
              "      <td>0.0</td>\n",
              "      <td>0.0</td>\n",
              "      <td>Benign</td>\n",
              "    </tr>\n",
              "    <tr>\n",
              "      <th>3</th>\n",
              "      <td>443</td>\n",
              "      <td>6</td>\n",
              "      <td>02/03/2018 08:47:40</td>\n",
              "      <td>132</td>\n",
              "      <td>2</td>\n",
              "      <td>0</td>\n",
              "      <td>0</td>\n",
              "      <td>0.0</td>\n",
              "      <td>0</td>\n",
              "      <td>0</td>\n",
              "      <td>0.000000</td>\n",
              "      <td>0.000000</td>\n",
              "      <td>0</td>\n",
              "      <td>0</td>\n",
              "      <td>0.000000</td>\n",
              "      <td>0.000000</td>\n",
              "      <td>0.00000</td>\n",
              "      <td>15151.515150</td>\n",
              "      <td>132.000000</td>\n",
              "      <td>0.000000</td>\n",
              "      <td>132.0</td>\n",
              "      <td>132.0</td>\n",
              "      <td>132.0</td>\n",
              "      <td>132.000</td>\n",
              "      <td>0.00000</td>\n",
              "      <td>132.0</td>\n",
              "      <td>132.0</td>\n",
              "      <td>0.0</td>\n",
              "      <td>0.00000</td>\n",
              "      <td>0.00000</td>\n",
              "      <td>0.0</td>\n",
              "      <td>0.0</td>\n",
              "      <td>0</td>\n",
              "      <td>0</td>\n",
              "      <td>0</td>\n",
              "      <td>0</td>\n",
              "      <td>40</td>\n",
              "      <td>0</td>\n",
              "      <td>15151.515150</td>\n",
              "      <td>0.000000</td>\n",
              "      <td>0</td>\n",
              "      <td>0</td>\n",
              "      <td>0.000000</td>\n",
              "      <td>0.000000</td>\n",
              "      <td>0.000000</td>\n",
              "      <td>0</td>\n",
              "      <td>0</td>\n",
              "      <td>0</td>\n",
              "      <td>0</td>\n",
              "      <td>1</td>\n",
              "      <td>0</td>\n",
              "      <td>0</td>\n",
              "      <td>0</td>\n",
              "      <td>0</td>\n",
              "      <td>0.000000</td>\n",
              "      <td>0.000000</td>\n",
              "      <td>0.000000</td>\n",
              "      <td>0</td>\n",
              "      <td>0</td>\n",
              "      <td>0</td>\n",
              "      <td>0</td>\n",
              "      <td>0</td>\n",
              "      <td>0</td>\n",
              "      <td>2</td>\n",
              "      <td>0</td>\n",
              "      <td>0</td>\n",
              "      <td>0</td>\n",
              "      <td>256</td>\n",
              "      <td>-1</td>\n",
              "      <td>0</td>\n",
              "      <td>20</td>\n",
              "      <td>0.0</td>\n",
              "      <td>0.0</td>\n",
              "      <td>0.0</td>\n",
              "      <td>0.0</td>\n",
              "      <td>0.0</td>\n",
              "      <td>0.0</td>\n",
              "      <td>0.0</td>\n",
              "      <td>0.0</td>\n",
              "      <td>Benign</td>\n",
              "    </tr>\n",
              "    <tr>\n",
              "      <th>4</th>\n",
              "      <td>443</td>\n",
              "      <td>6</td>\n",
              "      <td>02/03/2018 08:47:41</td>\n",
              "      <td>274016</td>\n",
              "      <td>9</td>\n",
              "      <td>13</td>\n",
              "      <td>1285</td>\n",
              "      <td>6141.0</td>\n",
              "      <td>517</td>\n",
              "      <td>0</td>\n",
              "      <td>142.777778</td>\n",
              "      <td>183.887722</td>\n",
              "      <td>1460</td>\n",
              "      <td>0</td>\n",
              "      <td>472.384615</td>\n",
              "      <td>611.180489</td>\n",
              "      <td>27100.60726</td>\n",
              "      <td>80.287282</td>\n",
              "      <td>13048.380950</td>\n",
              "      <td>26311.627030</td>\n",
              "      <td>114077.0</td>\n",
              "      <td>1.0</td>\n",
              "      <td>273946.0</td>\n",
              "      <td>34243.250</td>\n",
              "      <td>37996.56546</td>\n",
              "      <td>114077.0</td>\n",
              "      <td>201.0</td>\n",
              "      <td>252994.0</td>\n",
              "      <td>21082.83333</td>\n",
              "      <td>39075.73819</td>\n",
              "      <td>135611.0</td>\n",
              "      <td>1.0</td>\n",
              "      <td>0</td>\n",
              "      <td>0</td>\n",
              "      <td>0</td>\n",
              "      <td>0</td>\n",
              "      <td>192</td>\n",
              "      <td>272</td>\n",
              "      <td>32.844797</td>\n",
              "      <td>47.442485</td>\n",
              "      <td>0</td>\n",
              "      <td>1460</td>\n",
              "      <td>322.869565</td>\n",
              "      <td>497.254764</td>\n",
              "      <td>247262.300400</td>\n",
              "      <td>0</td>\n",
              "      <td>0</td>\n",
              "      <td>1</td>\n",
              "      <td>1</td>\n",
              "      <td>0</td>\n",
              "      <td>0</td>\n",
              "      <td>0</td>\n",
              "      <td>1</td>\n",
              "      <td>1</td>\n",
              "      <td>337.545455</td>\n",
              "      <td>142.777778</td>\n",
              "      <td>472.384615</td>\n",
              "      <td>0</td>\n",
              "      <td>0</td>\n",
              "      <td>0</td>\n",
              "      <td>0</td>\n",
              "      <td>0</td>\n",
              "      <td>0</td>\n",
              "      <td>9</td>\n",
              "      <td>1285</td>\n",
              "      <td>13</td>\n",
              "      <td>6141</td>\n",
              "      <td>8192</td>\n",
              "      <td>1047</td>\n",
              "      <td>5</td>\n",
              "      <td>20</td>\n",
              "      <td>0.0</td>\n",
              "      <td>0.0</td>\n",
              "      <td>0.0</td>\n",
              "      <td>0.0</td>\n",
              "      <td>0.0</td>\n",
              "      <td>0.0</td>\n",
              "      <td>0.0</td>\n",
              "      <td>0.0</td>\n",
              "      <td>Benign</td>\n",
              "    </tr>\n",
              "  </tbody>\n",
              "</table>\n",
              "</div>"
            ],
            "text/plain": [
              "   Dst Port  Protocol            Timestamp  ...  Idle Max  Idle Min   Label\n",
              "0       443         6  02/03/2018 08:47:38  ...       0.0       0.0  Benign\n",
              "1     49684         6  02/03/2018 08:47:38  ...       0.0       0.0  Benign\n",
              "2       443         6  02/03/2018 08:47:40  ...       0.0       0.0  Benign\n",
              "3       443         6  02/03/2018 08:47:40  ...       0.0       0.0  Benign\n",
              "4       443         6  02/03/2018 08:47:41  ...       0.0       0.0  Benign\n",
              "\n",
              "[5 rows x 80 columns]"
            ]
          },
          "metadata": {},
          "execution_count": 4
        }
      ]
    },
    {
      "cell_type": "code",
      "metadata": {
        "colab": {
          "base_uri": "https://localhost:8080/"
        },
        "id": "7pmX7KnsQAd5",
        "outputId": "a2289f13-f803-4e37-c4fb-a36dcfb30eae"
      },
      "source": [
        "date_1.Label.value_counts()"
      ],
      "execution_count": null,
      "outputs": [
        {
          "output_type": "execute_result",
          "data": {
            "text/plain": [
              "Benign    762384\n",
              "Bot       286191\n",
              "Name: Label, dtype: int64"
            ]
          },
          "metadata": {},
          "execution_count": 7
        }
      ]
    },
    {
      "cell_type": "code",
      "metadata": {
        "colab": {
          "base_uri": "https://localhost:8080/",
          "height": 384
        },
        "id": "vnPdkpjUP_0o",
        "outputId": "9ece7862-b06e-4332-db32-5660298db905"
      },
      "source": [
        "total_samples = get_stat(date_1, \"Friday-02-03-2018\", f\"{ClassImbalance}Botnet.jpeg\")"
      ],
      "execution_count": null,
      "outputs": [
        {
          "output_type": "stream",
          "name": "stdout",
          "text": [
            "['Benign', 'Bot'] Samples in Friday-02-03-2018 : [762384 286191]\n"
          ]
        },
        {
          "output_type": "display_data",
          "data": {
            "image/png": "[encoded data removed]",
            "text/plain": [
              "<Figure size 720x360 with 1 Axes>"
            ]
          },
          "metadata": {
            "needs_background": "light"
          }
        },
        {
          "output_type": "stream",
          "name": "stdout",
          "text": [
            "Shape of Friday-02-03-2018 : (1048575, 80)\n"
          ]
        }
      ]
    },
    {
      "cell_type": "markdown",
      "metadata": {
        "id": "sdK2Vg-K2Y9W"
      },
      "source": [
        "# Date 2 Friday-16-02-2018\n",
        "\n",
        "**DoS-SlowHTTPTest , DoS-Hulk**\n",
        "\n",
        "*DoS attack : Hulk, Slowhttptest*"
      ]
    },
    {
      "cell_type": "code",
      "metadata": {
        "id": "iaeygQGe0rbj"
      },
      "source": [
        "date_2 = pd.read_csv(f\"{Data}/Friday-16-02-2018_TrafficForML_CICFlowMeter.csv\")\n",
        "date_2.head()"
      ],
      "execution_count": null,
      "outputs": []
    },
    {
      "cell_type": "markdown",
      "metadata": {
        "id": "bNAeOe5v21ZE"
      },
      "source": [
        "# Date 3 Friday-23-02-2018\n",
        "\n",
        "**Brute Force -Web, Brute Force -XSS, SQL Injection**\n",
        " \n",
        "*Web attack\tDamn Vulnerable Web App (DVWA) In-house selenium framework (XSS and Brute-force)*\n"
      ]
    },
    {
      "cell_type": "code",
      "metadata": {
        "id": "NpkSNVOA0rmk"
      },
      "source": [
        "date_3 = pd.read_csv(f\"{Data}/Friday-23-02-2018_TrafficForML_CICFlowMeter.csv\")\n",
        "date_3.head()"
      ],
      "execution_count": null,
      "outputs": []
    },
    {
      "cell_type": "markdown",
      "metadata": {
        "id": "Wp5605xV3Qwj"
      },
      "source": [
        "# Date 4 Tuesday-20-02-2018\n",
        "\n",
        "**DDoS attacks-LOIC-HTTP, DDoS-LOIC-UDP**\n",
        " \n",
        "*DDoS+PortScan :\tLow Orbit Ion Canon (LOIC) for UDP, TCP, or HTTP requests*\n"
      ]
    },
    {
      "cell_type": "code",
      "metadata": {
        "id": "fLuzVZ_H0ryp"
      },
      "source": [
        "date_4 = pd.read_csv(f\"{Data}/Thuesday-20-02-2018_TrafficForML_CICFlowMeter.csv\")\n",
        "date_4.head()"
      ],
      "execution_count": null,
      "outputs": []
    },
    {
      "cell_type": "markdown",
      "metadata": {
        "id": "fhy4dn4l3SwC"
      },
      "source": [
        "# Date 5 Thursday-01-03-2018\n",
        "\n",
        "**Infiltration**\n",
        " \n",
        "*Infiltration attack :* \n",
        "*   *First level: Dropbox download in a windows machine*\n",
        "*   *Second Level: Nmap and portscan*"
      ]
    },
    {
      "cell_type": "code",
      "metadata": {
        "id": "My_WQ9JK1IBK"
      },
      "source": [
        "date_5 = pd.read_csv(f\"{Data}/Thursday-01-03-2018_TrafficForML_CICFlowMeter.csv\")\n",
        "date_5.head()"
      ],
      "execution_count": null,
      "outputs": []
    },
    {
      "cell_type": "markdown",
      "metadata": {
        "id": "uBEX2sB23Rk0"
      },
      "source": [
        "# Date 6 Thursday-15-02-2018\n",
        "\n",
        "**DoS-GoldenEye, DoS-Slowloris**\n",
        " \n",
        "*DoS attack : GoldenEye, Slowloris*\n"
      ]
    },
    {
      "cell_type": "code",
      "metadata": {
        "id": "n7qGbSXy1IJr"
      },
      "source": [
        "date_6 = pd.read_csv(f\"{Data}/Thursday-15-02-2018_TrafficForML_CICFlowMeter.csv\")\n",
        "date_6.head()"
      ],
      "execution_count": null,
      "outputs": []
    },
    {
      "cell_type": "markdown",
      "metadata": {
        "id": "Hg2uL30X3T7s"
      },
      "source": [
        "# Date 7 Thursday-22-02-2018\n",
        "\n",
        "**Brute Force -Web, Brute Force -XSS, SQL Injection**\n",
        " \n",
        "*Web attack\tDamn Vulnerable Web App (DVWA)\n",
        "In-house selenium framework (XSS and Brute-force)*\n"
      ]
    },
    {
      "cell_type": "code",
      "metadata": {
        "id": "QzTx8Jv61IP_"
      },
      "source": [
        "date_7 = pd.read_csv(f\"{Data}/Thursday-22-02-2018_TrafficForML_CICFlowMeter.csv\")\n",
        "date_7.head()"
      ],
      "execution_count": null,
      "outputs": []
    },
    {
      "cell_type": "markdown",
      "metadata": {
        "id": "hJ3iwjyt3Uk9"
      },
      "source": [
        "# Date 8 Wednesday-14-02-2018\n",
        "\n",
        "**FTP-BruteForce, SSH-Bruteforce**\n",
        " \n",
        "*For Brute Force : FTP – Patator, SSH – Patator*\n"
      ]
    },
    {
      "cell_type": "code",
      "metadata": {
        "id": "LDQLEoYw1IWI"
      },
      "source": [
        "date_8 = pd.read_csv(f\"{Data}/Wednesday-14-02-2018_TrafficForML_CICFlowMeter.csv\")\n",
        "date_8.head()"
      ],
      "execution_count": null,
      "outputs": []
    },
    {
      "cell_type": "markdown",
      "metadata": {
        "id": "qwvmVONs3VOe"
      },
      "source": [
        "# Date 9 Wednesday-21-02-2018\n",
        "\n",
        "**DDOS-LOIC-UDP, DDOS-HOIC**\n",
        " \n",
        "*DDoS+PortScan : Low Orbit Ion Canon (LOIC) for UDP, TCP, or HTTP requests*\n"
      ]
    },
    {
      "cell_type": "code",
      "metadata": {
        "id": "Oh6b0n9y1Ids"
      },
      "source": [
        "date_9 = pd.read_csv(f\"{Data}/Wednesday-21-02-2018_TrafficForML_CICFlowMeter.csv\")\n",
        "date_9.head()"
      ],
      "execution_count": null,
      "outputs": []
    },
    {
      "cell_type": "markdown",
      "metadata": {
        "id": "lA17ZjIu3V0E"
      },
      "source": [
        "# Date 10 Wednesday-28-02-2018\n",
        "\n",
        "**Infiltration**\n",
        " \n",
        "*Infiltration attack :*\n",
        "\n",
        "\n",
        "*   *First level: Dropbox download in a windows machine*\n",
        "*   *Second Level: Nmap and portscan*\n",
        "\n",
        "\n",
        "\n"
      ]
    },
    {
      "cell_type": "code",
      "metadata": {
        "id": "1w-pRsmf1Ijy"
      },
      "source": [
        "date_10 = pd.read_csv(f\"{Data}/Wednesday-28-02-2018_TrafficForML_CICFlowMeter.csv\")\n",
        "date_10.head()"
      ],
      "execution_count": null,
      "outputs": []
    },
    {
      "cell_type": "code",
      "metadata": {
        "id": "zx9-rGDy1Ir9"
      },
      "source": [
        ""
      ],
      "execution_count": null,
      "outputs": []
    }
  ]
}